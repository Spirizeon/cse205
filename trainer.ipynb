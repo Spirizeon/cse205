{
 "cells": [
  {
   "cell_type": "code",
   "execution_count": null,
   "metadata": {
    "_cell_guid": "069d7270-bd20-421a-9b32-6c255fc8d8c8",
    "_uuid": "4ea3bd45-37a0-4f55-82ea-52883a41a931",
    "collapsed": false,
    "execution": {
     "iopub.execute_input": "2025-03-31T18:45:41.105993Z",
     "iopub.status.busy": "2025-03-31T18:45:41.105536Z",
     "iopub.status.idle": "2025-03-31T18:45:41.121249Z",
     "shell.execute_reply": "2025-03-31T18:45:41.120097Z",
     "shell.execute_reply.started": "2025-03-31T18:45:41.105875Z"
    },
    "jupyter": {
     "outputs_hidden": false
    },
    "trusted": true
   },
   "outputs": [],
   "source": [
    "# This Python 3 environment comes with many helpful analytics libraries installed\n",
    "# It is defined by the kaggle/python Docker image: https://github.com/kaggle/docker-python\n",
    "# For example, here's several helpful packages to load\n",
    "\n",
    "import numpy as np # linear algebra\n",
    "import pandas as pd # data processing, CSV file I/O (e.g. pd.read_csv)\n",
    "\n",
    "# Input data files are available in the read-only \"../input/\" directory\n",
    "# For example, running this (by clicking run or pressing Shift+Enter) will list all files under the input directory\n",
    "\n",
    "import os\n",
    "for dirname, _, filenames in os.walk('/kaggle/input'):\n",
    "    for filename in filenames:\n",
    "        print(os.path.join(dirname, filename))\n",
    "\n",
    "# You can write up to 20GB to the current directory (/kaggle/working/) that gets preserved as output when you create a version using \"Save & Run All\" \n",
    "# You can also write temporary files to /kaggle/temp/, but they won't be saved outside of the current session"
   ]
  },
  {
   "cell_type": "code",
   "execution_count": null,
   "metadata": {
    "_cell_guid": "e4d19982-613c-4723-91dd-e3cec3e88385",
    "_uuid": "193084ba-9f9f-421f-aa2c-993c30ed4ed8",
    "collapsed": false,
    "execution": {
     "iopub.execute_input": "2025-03-31T18:45:41.123087Z",
     "iopub.status.busy": "2025-03-31T18:45:41.122671Z",
     "iopub.status.idle": "2025-03-31T18:45:41.191112Z",
     "shell.execute_reply": "2025-03-31T18:45:41.190178Z",
     "shell.execute_reply.started": "2025-03-31T18:45:41.123045Z"
    },
    "jupyter": {
     "outputs_hidden": false
    },
    "trusted": true
   },
   "outputs": [],
   "source": [
    "data=pd.read_csv('/kaggle/input/spam-email/spam.csv')\n",
    "data"
   ]
  },
  {
   "cell_type": "code",
   "execution_count": null,
   "metadata": {
    "_cell_guid": "1c2afeac-8dc4-49ca-a3e0-43b0c24e8293",
    "_uuid": "0ef85518-b1b6-4a8e-8d4b-26698fb73a85",
    "collapsed": false,
    "execution": {
     "iopub.execute_input": "2025-03-31T18:45:41.192496Z",
     "iopub.status.busy": "2025-03-31T18:45:41.192209Z",
     "iopub.status.idle": "2025-03-31T18:45:41.197787Z",
     "shell.execute_reply": "2025-03-31T18:45:41.196857Z",
     "shell.execute_reply.started": "2025-03-31T18:45:41.192468Z"
    },
    "jupyter": {
     "outputs_hidden": false
    },
    "trusted": true
   },
   "outputs": [],
   "source": [
    "data.columns"
   ]
  },
  {
   "cell_type": "code",
   "execution_count": null,
   "metadata": {
    "_cell_guid": "41ef2baa-8211-44ca-98e5-5e9e1918d08e",
    "_uuid": "5efaf8c6-17a6-42b2-8bed-e70a819f6006",
    "collapsed": false,
    "execution": {
     "iopub.execute_input": "2025-03-31T18:45:41.199493Z",
     "iopub.status.busy": "2025-03-31T18:45:41.199121Z",
     "iopub.status.idle": "2025-03-31T18:45:41.219285Z",
     "shell.execute_reply": "2025-03-31T18:45:41.218217Z",
     "shell.execute_reply.started": "2025-03-31T18:45:41.199454Z"
    },
    "jupyter": {
     "outputs_hidden": false
    },
    "trusted": true
   },
   "outputs": [],
   "source": [
    "data.info()"
   ]
  },
  {
   "cell_type": "markdown",
   "metadata": {
    "_cell_guid": "5d7883b5-40de-4dd5-ae88-2c82b985fea4",
    "_uuid": "156b2e54-8394-4d89-b241-b86d51a3ac50",
    "collapsed": false,
    "jupyter": {
     "outputs_hidden": false
    },
    "trusted": true
   },
   "source": [
    "**Dropped The Column Unnamed: 0**"
   ]
  },
  {
   "cell_type": "code",
   "execution_count": null,
   "metadata": {
    "_cell_guid": "92cd431c-4ba7-4f1d-9e2d-38581d1e6e5d",
    "_uuid": "2db906ad-772d-4f68-b6a6-f5c19a21b678",
    "collapsed": false,
    "execution": {
     "iopub.execute_input": "2025-03-31T18:45:41.220725Z",
     "iopub.status.busy": "2025-03-31T18:45:41.220451Z",
     "iopub.status.idle": "2025-03-31T18:45:41.235540Z",
     "shell.execute_reply": "2025-03-31T18:45:41.234417Z",
     "shell.execute_reply.started": "2025-03-31T18:45:41.220698Z"
    },
    "jupyter": {
     "outputs_hidden": false
    },
    "trusted": true
   },
   "outputs": [],
   "source": [
    "data.isna().sum()"
   ]
  },
  {
   "cell_type": "code",
   "execution_count": null,
   "metadata": {
    "_cell_guid": "a411ac72-97e2-4659-989c-7cb5efdf1f4d",
    "_uuid": "5cd519b6-ce92-494d-83c3-4dbe62590208",
    "collapsed": false,
    "execution": {
     "iopub.execute_input": "2025-03-31T18:45:41.238487Z",
     "iopub.status.busy": "2025-03-31T18:45:41.238090Z",
     "iopub.status.idle": "2025-03-31T18:45:41.255415Z",
     "shell.execute_reply": "2025-03-31T18:45:41.254407Z",
     "shell.execute_reply.started": "2025-03-31T18:45:41.238446Z"
    },
    "jupyter": {
     "outputs_hidden": false
    },
    "trusted": true
   },
   "outputs": [],
   "source": [
    "data['Spam']=data['Category'].apply(lambda x:1 if x=='spam' else 0)\n",
    "data.head(5)"
   ]
  },
  {
   "cell_type": "code",
   "execution_count": null,
   "metadata": {
    "_cell_guid": "da440256-a787-4309-8d8a-7a6f1eda93a0",
    "_uuid": "6dcb7ab8-a9e6-4b58-a45c-76e1884f3a5b",
    "collapsed": false,
    "execution": {
     "iopub.execute_input": "2025-03-31T18:45:41.257105Z",
     "iopub.status.busy": "2025-03-31T18:45:41.256834Z",
     "iopub.status.idle": "2025-03-31T18:45:42.219220Z",
     "shell.execute_reply": "2025-03-31T18:45:42.218293Z",
     "shell.execute_reply.started": "2025-03-31T18:45:41.257080Z"
    },
    "jupyter": {
     "outputs_hidden": false
    },
    "trusted": true
   },
   "outputs": [],
   "source": [
    "from sklearn.model_selection import train_test_split\n",
    "X_train,X_test,y_train,y_test=train_test_split(data.Message,data.Spam,test_size=0.25)"
   ]
  },
  {
   "cell_type": "code",
   "execution_count": null,
   "metadata": {
    "_cell_guid": "2130955e-89d2-4bca-8a23-bf660522ba64",
    "_uuid": "907431b9-8348-4d61-a7d4-d49429d45955",
    "collapsed": false,
    "execution": {
     "iopub.execute_input": "2025-03-31T18:45:42.221104Z",
     "iopub.status.busy": "2025-03-31T18:45:42.220660Z",
     "iopub.status.idle": "2025-03-31T18:45:42.237389Z",
     "shell.execute_reply": "2025-03-31T18:45:42.236480Z",
     "shell.execute_reply.started": "2025-03-31T18:45:42.221056Z"
    },
    "jupyter": {
     "outputs_hidden": false
    },
    "trusted": true
   },
   "outputs": [],
   "source": [
    "#CounterVectorizer Convert the text into matrics\n",
    "from sklearn.feature_extraction.text import CountVectorizer"
   ]
  },
  {
   "cell_type": "markdown",
   "metadata": {
    "_cell_guid": "d334a9a7-7c86-45f5-9d46-e34365ebe3c4",
    "_uuid": "bb032280-8f11-41bc-ac7e-ea383f447fd1",
    "collapsed": false,
    "jupyter": {
     "outputs_hidden": false
    },
    "trusted": true
   },
   "source": [
    "**Naive Bayes Have three Classifier(Bernouli,Multinominal,Gaussian)\n",
    "Here I use Multinominal Bayes Because here data in a discrete form \n",
    "discrete data(e.g movie ratings ranging  1 to 5 as each rating will have certain frequency to represent)**"
   ]
  },
  {
   "cell_type": "code",
   "execution_count": null,
   "metadata": {
    "_cell_guid": "1746f052-a023-4e16-b46a-85abd27f0df4",
    "_uuid": "b4337300-4ce0-4370-ae16-28ea1974da36",
    "collapsed": false,
    "execution": {
     "iopub.execute_input": "2025-03-31T18:45:42.239110Z",
     "iopub.status.busy": "2025-03-31T18:45:42.238688Z",
     "iopub.status.idle": "2025-03-31T18:45:42.246291Z",
     "shell.execute_reply": "2025-03-31T18:45:42.245359Z",
     "shell.execute_reply.started": "2025-03-31T18:45:42.239067Z"
    },
    "jupyter": {
     "outputs_hidden": false
    },
    "trusted": true
   },
   "outputs": [],
   "source": [
    "from sklearn.naive_bayes import MultinomialNB"
   ]
  },
  {
   "cell_type": "code",
   "execution_count": null,
   "metadata": {
    "_cell_guid": "76ec15d6-28e7-4d1e-91ff-122ab024695e",
    "_uuid": "3e42ad97-94b2-4d5f-8e4a-a34584f94ed1",
    "collapsed": false,
    "execution": {
     "iopub.execute_input": "2025-03-31T18:45:42.247746Z",
     "iopub.status.busy": "2025-03-31T18:45:42.247407Z",
     "iopub.status.idle": "2025-03-31T18:45:42.256330Z",
     "shell.execute_reply": "2025-03-31T18:45:42.255370Z",
     "shell.execute_reply.started": "2025-03-31T18:45:42.247716Z"
    },
    "jupyter": {
     "outputs_hidden": false
    },
    "trusted": true
   },
   "outputs": [],
   "source": [
    "from sklearn.pipeline import Pipeline\n",
    "clf=Pipeline([\n",
    "    ('vectorizer',CountVectorizer()),\n",
    "    ('nb',MultinomialNB())\n",
    "])"
   ]
  },
  {
   "cell_type": "markdown",
   "metadata": {
    "_cell_guid": "7e52ab86-04bb-4ba3-9c3a-6f60130563ba",
    "_uuid": "ddd9821c-9f78-4d91-bd3b-f2c2c24ee406",
    "collapsed": false,
    "jupyter": {
     "outputs_hidden": false
    },
    "trusted": true
   },
   "source": [
    "# Tarining The Model"
   ]
  },
  {
   "cell_type": "code",
   "execution_count": null,
   "metadata": {
    "_cell_guid": "4e26ce19-75b8-4a0f-b20b-677730fadf61",
    "_uuid": "ec4fe184-b84b-401f-8e07-c7304ac73c19",
    "collapsed": false,
    "execution": {
     "iopub.execute_input": "2025-03-31T18:45:42.257882Z",
     "iopub.status.busy": "2025-03-31T18:45:42.257555Z",
     "iopub.status.idle": "2025-03-31T18:45:42.354449Z",
     "shell.execute_reply": "2025-03-31T18:45:42.353418Z",
     "shell.execute_reply.started": "2025-03-31T18:45:42.257843Z"
    },
    "jupyter": {
     "outputs_hidden": false
    },
    "trusted": true
   },
   "outputs": [],
   "source": [
    "clf.fit(X_train,y_train)"
   ]
  },
  {
   "cell_type": "markdown",
   "metadata": {
    "_cell_guid": "c4a42c37-db6c-484d-b7b1-ecc59049fb1d",
    "_uuid": "5a8f17be-b54c-44f6-bb67-d77a6cdb41a1",
    "collapsed": false,
    "jupyter": {
     "outputs_hidden": false
    },
    "trusted": true
   },
   "source": [
    "**Here I given Two email Two detect 1st One is looking good and the other one looking spam**"
   ]
  },
  {
   "cell_type": "code",
   "execution_count": null,
   "metadata": {
    "_cell_guid": "536d3563-66a1-4f17-8a05-484339bb643b",
    "_uuid": "a367d5a7-e708-4cd5-ae2a-54590d8332b9",
    "collapsed": false,
    "execution": {
     "iopub.execute_input": "2025-03-31T18:45:42.356127Z",
     "iopub.status.busy": "2025-03-31T18:45:42.355786Z",
     "iopub.status.idle": "2025-03-31T18:45:42.359951Z",
     "shell.execute_reply": "2025-03-31T18:45:42.358908Z",
     "shell.execute_reply.started": "2025-03-31T18:45:42.356097Z"
    },
    "jupyter": {
     "outputs_hidden": false
    },
    "trusted": true
   },
   "outputs": [],
   "source": [
    "emails=[\n",
    "    'Sounds great! Are you home now?',\n",
    "    'Will u meet ur dream partner soon? Is ur career off 2 a flyng start? 2 find out free, txt HORO followed by ur star sign, e. g. HORO ARIES'\n",
    "]"
   ]
  },
  {
   "cell_type": "markdown",
   "metadata": {
    "_cell_guid": "3b7daaa8-a744-4464-a712-fe2e280015f5",
    "_uuid": "2898e5ab-3187-4dfa-b880-89840ec4ee11",
    "collapsed": false,
    "jupyter": {
     "outputs_hidden": false
    },
    "trusted": true
   },
   "source": [
    "**Predict Email**"
   ]
  },
  {
   "cell_type": "code",
   "execution_count": null,
   "metadata": {
    "_cell_guid": "8931a3db-2693-4f51-9f3f-a9875467bcd0",
    "_uuid": "f5e4eef9-2067-4429-a3b0-dbf26603bdac",
    "collapsed": false,
    "execution": {
     "iopub.execute_input": "2025-03-31T18:47:26.887458Z",
     "iopub.status.busy": "2025-03-31T18:47:26.887102Z",
     "iopub.status.idle": "2025-03-31T18:47:26.894140Z",
     "shell.execute_reply": "2025-03-31T18:47:26.893183Z",
     "shell.execute_reply.started": "2025-03-31T18:47:26.887426Z"
    },
    "jupyter": {
     "outputs_hidden": false
    },
    "trusted": true
   },
   "outputs": [],
   "source": [
    "clf.predict(emails)"
   ]
  },
  {
   "cell_type": "markdown",
   "metadata": {
    "_cell_guid": "09c191ab-29de-4250-80d1-17c0fa111a00",
    "_uuid": "6ac9789f-6418-4b67-9597-2702a7159ba4",
    "collapsed": false,
    "jupyter": {
     "outputs_hidden": false
    },
    "trusted": true
   },
   "source": [
    "# Prediction Of Model"
   ]
  },
  {
   "cell_type": "code",
   "execution_count": null,
   "metadata": {
    "_cell_guid": "e474f69b-c703-4609-b795-8731c7ba236e",
    "_uuid": "d3f0e5bf-897c-4c88-a18a-22a250a1e813",
    "collapsed": false,
    "execution": {
     "iopub.execute_input": "2025-03-31T18:45:42.377882Z",
     "iopub.status.busy": "2025-03-31T18:45:42.377488Z",
     "iopub.status.idle": "2025-03-31T18:45:42.410424Z",
     "shell.execute_reply": "2025-03-31T18:45:42.409428Z",
     "shell.execute_reply.started": "2025-03-31T18:45:42.377850Z"
    },
    "jupyter": {
     "outputs_hidden": false
    },
    "trusted": true
   },
   "outputs": [],
   "source": [
    "clf.score(X_test,y_test)"
   ]
  }
 ],
 "metadata": {
  "kaggle": {
   "accelerator": "none",
   "dataSources": [
    {
     "datasetId": 1422521,
     "sourceId": 2355807,
     "sourceType": "datasetVersion"
    }
   ],
   "dockerImageVersionId": 30096,
   "isGpuEnabled": false,
   "isInternetEnabled": true,
   "language": "python",
   "sourceType": "notebook"
  },
  "kernelspec": {
   "display_name": "Python 3",
   "language": "python",
   "name": "python3"
  },
  "language_info": {
   "codemirror_mode": {
    "name": "ipython",
    "version": 3
   },
   "file_extension": ".py",
   "mimetype": "text/x-python",
   "name": "python",
   "nbconvert_exporter": "python",
   "pygments_lexer": "ipython3",
   "version": "3.7.10"
  }
 },
 "nbformat": 4,
 "nbformat_minor": 4
}
